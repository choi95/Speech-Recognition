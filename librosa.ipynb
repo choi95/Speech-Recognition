{
 "cells": [
  {
   "cell_type": "markdown",
   "metadata": {},
   "source": [
    "데이터 수집\n",
    "freesound\n"
   ]
  },
  {
   "cell_type": "code",
   "execution_count": null,
   "metadata": {},
   "outputs": [],
   "source": [
    "wav = '경로'\n",
    "(file_dir, file_id) = os.path.split(wav)\n",
    "print(\"file_dir:\", file_dir)\n",
    "print(\"file_id:\", file_id)\n"
   ]
  },
  {
   "cell_type": "code",
   "execution_count": null,
   "metadata": {},
   "outputs": [],
   "source": [
    "# 음성 파일을 librosa로 불러올 것이다.\n",
    "# librosa는 별도로 sr(sampling rate)를 설정하지 않으면 default sr이 22500으로 되어있다.\n",
    "y, sr = librosa.load(wav, sr=16000)\n",
    "time = np.linspace(0, len(y)/sr, len(y)) # time axis\n",
    "\n",
    "fig, ax1 = plt.subplots() # plot\n",
    "ax1.plot(time, y, color = 'b', label='speech waveform')\n",
    "ax1.set_ylabel(\"Amplitude\") # y 축\n",
    "ax1.set_xlabel(\"Time [s]\") # x 축\n",
    "plt.title(file_id) # 제목\n",
    "plt.savefig(file_id+'.png')\n",
    "plt.show()\n",
    "\n",
    "#우선 아래의 코드를 통해 음성 신호를 절반만을 가져오고, 절반을 그려보도록 하자.\n",
    "half = len(y)/2\n",
    "y2 = y[:round(half)]\n",
    "time2 = np.linspace(0, len(y2)/sr, len(y2))\n",
    "fig2, ax2 = plt.subplots()\n",
    "ax2.plot(time2, y2, color = 'b', label='speech waveform')\n",
    "ax1.set_ylabel(\"Amplitude\") # y 축\n",
    "ax1.set_xlabel(\"Time [s]\") # x 축\n",
    "plt.title('cut '+file_id)\n",
    "plt.savefig('cut_half '+file_id+'.png')\n",
    "plt.show()\n",
    "\n",
    "#librosa를 이용한 저장\n",
    "librosa.output.write_wav('cut_file.wav', y2, sr)\n"
   ]
  },
  {
   "cell_type": "markdown",
   "metadata": {},
   "source": [
    "### 음성 데이터 Resampling\n",
    "resampling 되고나서 librosa를 이용하여 그대로 저장을 하고 윈도우에서 그 음성을 다운받아서 확인해볼 때 읽히지 않을때가 있다.\n",
    "librosa 로 resample 이후에 soundfile의 write를 사용하여 저장하면 이 문제를 해결"
   ]
  },
  {
   "cell_type": "code",
   "execution_count": null,
   "metadata": {},
   "outputs": [],
   "source": [
    "# librosa 라이브러리를 이용한 downsampling\n",
    "def down_sample(input_wav, origin_sr, resample_sr):\n",
    "    y, sr = librosa.load(input_wav, sr=origin_sr)\n",
    "    resample = librosa.resample(y, sr, resample_sr)\n",
    "    print(\"original wav sr: {}, original wav shape: {}, resample wav sr: {}, resmaple shape: {}\".format(origin_sr, y.shape, resample_sr, resample.shape))\n",
    "    plt.figure(figsize=(10, 4))\n",
    "    plt.subplot(2, 1, 1)\n",
    "    time1 = np.linspace(0, len(y) / sr, len(y))\n",
    "    plt.plot(time1, y)\n",
    "    plt.title('Original Wav')\n",
    "\n",
    "    plt.subplot(2, 1, 2)\n",
    "    time2 = np.linspace(0, len(resample) / resample_sr, len(resample))\n",
    "    plt.plot(time2, resample)\n",
    "    plt.title('Resampled Wav')\n",
    "\n",
    "    plt.tight_layout()\n",
    "    plt.savefig('compare_16k_vs_8k.png')\n",
    " # 음성 데이터 저장\n",
    "sf.write('./' + '16k.wav' , y, origin_sr, format='WAV', endian='LITTLE', subtype='PCM_16')\n",
    "sf.write('./' + '8k.wav', resample, resample_sr, format='WAV', endian='LITTLE', subtype='PCM_16')\n",
    "\n",
    "man_original_data = '/mnt/junewoo/workspace/transform/test_wav/man_wav1.wav'\n",
    "down_sample(man_original_data, 16000, 8000)"
   ]
  },
  {
   "cell_type": "markdown",
   "metadata": {},
   "source": [
    "딥러닝을 이용하여 음성인식, 음성처리, 화자 인식 등에서 많이 쓰이는 음성 특징 추출 방법은 \n",
    "1. Mel-Spectrogram\n",
    "2. MFCC\n",
    "\n",
    "#### 파라미터 별로 어떤 기능이 있는지?\n",
    "1. y\n",
    "2. sr\n",
    "3. S :  librosa.stft(y)를 하면 얻을 수 있다. 즉 Short-Time Fourier Transform을 하여 얻어진 magnitude 와 phase의 값인 것이다. \n",
    "4. n_fft :  time-magnitude domain을 frequency로 바꾼다.\n",
    "            주파수 관점에서 바라보았을 때 얻을 수 있는 정보가 많기 때문\n",
    "            음성의 길이를 얼마만큼 자를지 정할 수 있다. 이를 window라 한다.\n",
    "            input_nfft = int(round(sr*frame_length))\n",
    "            frame_length = input_nfft/sr\n",
    "5. hop_length\n"
   ]
  }
 ],
 "metadata": {
  "kernelspec": {
   "display_name": "Python 3",
   "language": "python",
   "name": "python3"
  },
  "language_info": {
   "codemirror_mode": {
    "name": "ipython",
    "version": 3
   },
   "file_extension": ".py",
   "mimetype": "text/x-python",
   "name": "python",
   "nbconvert_exporter": "python",
   "pygments_lexer": "ipython3",
   "version": "3.7.1"
  }
 },
 "nbformat": 4,
 "nbformat_minor": 2
}
